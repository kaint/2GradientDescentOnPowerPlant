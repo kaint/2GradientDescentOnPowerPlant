{
 "cells": [
  {
   "cell_type": "code",
   "execution_count": 70,
   "metadata": {
    "collapsed": true
   },
   "outputs": [],
   "source": [
    "import numpy as np\n",
    "import pandas as pd\n",
    "from sklearn import model_selection"
   ]
  },
  {
   "cell_type": "code",
   "execution_count": 71,
   "metadata": {
    "collapsed": false
   },
   "outputs": [
    {
     "data": {
      "text/plain": [
       "(2392, 5)"
      ]
     },
     "execution_count": 71,
     "metadata": {},
     "output_type": "execute_result"
    }
   ],
   "source": [
    "test_values=np.loadtxt(\"test_ccpp_x_test.csv\",delimiter=',')\n",
    "#change if want to change anything in this \n",
    "\n",
    "\n",
    "#til this if any\n",
    "df=pd.DataFrame(test_values)\n",
    "df[4]=1\n",
    "finaltest=df.values\n",
    "finaltest.shape"
   ]
  },
  {
   "cell_type": "code",
   "execution_count": 94,
   "metadata": {
    "collapsed": false
   },
   "outputs": [
    {
     "name": "stdout",
     "output_type": "stream",
     "text": [
      "[[    8.58    38.38  1021.03    84.37]\n",
      " [   21.79    58.2   1017.21    66.74]\n",
      " [   16.64    48.92  1011.55    78.76]\n",
      " ..., \n",
      " [   29.8     69.34  1009.36    64.74]\n",
      " [   16.37    54.3   1017.94    63.63]\n",
      " [   30.11    62.04  1010.69    47.96]]\n"
     ]
    }
   ],
   "source": [
    "#for finding the train data \n",
    "\n",
    "train_inputs=np.loadtxt(\"training_ccpp_x_y_train.csv\",delimiter=',')\n",
    "#print(train_inputs)\n",
    "y=train_inputs[:,train_inputs.shape[1]-1]\n",
    "x=train_inputs[:,0:train_inputs.shape[1]-1]\n",
    "\n",
    "print(x)\n",
    "#print(\"\\n************The output for training data is************ \\n\",y[0][0])\n"
   ]
  },
  {
   "cell_type": "code",
   "execution_count": 95,
   "metadata": {
    "collapsed": false
   },
   "outputs": [
    {
     "data": {
      "text/plain": [
       "(7176, 5)"
      ]
     },
     "execution_count": 95,
     "metadata": {},
     "output_type": "execute_result"
    }
   ],
   "source": [
    "#printiing the values of x and y as a trained data\n",
    "#print(x,\"\\n\",y)\n",
    "#print('\\n',x.shape,\" \",y.shape)\n",
    "df=pd.DataFrame(x)\n",
    "df[4]=1\n",
    "x=df.values\n",
    "x.shape"
   ]
  },
  {
   "cell_type": "code",
   "execution_count": 96,
   "metadata": {
    "collapsed": false
   },
   "outputs": [
    {
     "name": "stdout",
     "output_type": "stream",
     "text": [
      "       0      1        2      3  4\n",
      "0   8.58  38.38  1021.03  84.37  1\n",
      "1  21.79  58.20  1017.21  66.74  1\n",
      "2  16.64  48.92  1011.55  78.76  1\n",
      "3  31.38  71.32  1009.17  60.42  1\n",
      "4   9.20  40.03  1017.05  92.46  1\n",
      "[[ 0.]\n",
      " [ 0.]\n",
      " [ 0.]\n",
      " ..., \n",
      " [ 0.]\n",
      " [ 0.]\n",
      " [ 0.]]\n"
     ]
    }
   ],
   "source": [
    "m_values=(np.zeros(x.shape[1])).reshape(-1,1)\n",
    "m_values\n",
    "print(df.head())\n",
    "print(np.dot(x,m_values))"
   ]
  },
  {
   "cell_type": "code",
   "execution_count": null,
   "metadata": {
    "collapsed": true
   },
   "outputs": [],
   "source": []
  },
  {
   "cell_type": "code",
   "execution_count": 97,
   "metadata": {
    "collapsed": false
   },
   "outputs": [
    {
     "ename": "SyntaxError",
     "evalue": "unexpected EOF while parsing (<ipython-input-97-38676495f5d2>, line 2)",
     "output_type": "error",
     "traceback": [
      "\u001b[0;36m  File \u001b[0;32m\"<ipython-input-97-38676495f5d2>\"\u001b[0;36m, line \u001b[0;32m2\u001b[0m\n\u001b[0;31m    \u001b[0m\n\u001b[0m    ^\u001b[0m\n\u001b[0;31mSyntaxError\u001b[0m\u001b[0;31m:\u001b[0m unexpected EOF while parsing\n"
     ]
    }
   ],
   "source": [
    "def cof(x,y,final_m):\n",
    "    "
   ]
  },
  {
   "cell_type": "code",
   "execution_count": 98,
   "metadata": {
    "collapsed": true
   },
   "outputs": [],
   "source": [
    "def cost(x,y,m_values):\n",
    "    total=0\n",
    "    for i in range(len(x)):\n",
    "        total=total+(1/len(x))*( ( y[i] - ( np.dot( x[i,:],m_values ) ).sum() )**2 )\n",
    "        \n",
    "    return total "
   ]
  },
  {
   "cell_type": "code",
   "execution_count": 107,
   "metadata": {
    "collapsed": true
   },
   "outputs": [],
   "source": [
    "def gd(rate,iteration,x,y):\n",
    "    m_values=(np.zeros(x.shape[1])).reshape(-1,1)\n",
    "    \n",
    "    for i in range(iteration):\n",
    "        m_values=single_gradient(rate,m_values,x,y)\n",
    "        print(i,\" cost is \",cost(x,y,m_values))\n",
    "        \n",
    "    return m_values"
   ]
  },
  {
   "cell_type": "code",
   "execution_count": 108,
   "metadata": {
    "collapsed": true
   },
   "outputs": [],
   "source": [
    "def single_gradient(rate,m_values,x,y):\n",
    "    m_slope=(np.zeros(x.shape[1]).reshape(-1,1))\n",
    "    m=len(x)\n",
    "    \n",
    "    for i in range(len(x)):\n",
    "        row=x[i,:]\n",
    "        for j in range(len(m_values)):\n",
    "            m_slope[j]+=(-2/m)*(y[i]-np.dot(row,m_values).sum())*row[j]\n",
    "    \n",
    "    return m_values-rate*m_slope\n",
    "    "
   ]
  },
  {
   "cell_type": "code",
   "execution_count": 109,
   "metadata": {
    "collapsed": true
   },
   "outputs": [],
   "source": [
    "def run():\n",
    "    rate=.000001\n",
    "    iteration=100\n",
    "    final_m=gd(rate,iteration,x,y)\n",
    "    \n",
    "    yfinal=np.zeros(len(finaltest))\n",
    "    yfinal=yfinal.reshape(-1,1)\n",
    "    \n",
    "    print(\" the value of final m is \\n\", final_m)\n",
    "    for i in range(len(finaltest)):\n",
    "        yfinal[i]=(np.dot(finaltest[i],final_m).sum())    \n",
    "        \n",
    "#coefficent( x,y,final_m)\n",
    "\n",
    "    np.savetxt(\"project1ans.csv\",yfinal,delimiter=',',fmt='%1.5f')"
   ]
  },
  {
   "cell_type": "code",
   "execution_count": 110,
   "metadata": {
    "collapsed": false
   },
   "outputs": [
    {
     "name": "stdout",
     "output_type": "stream",
     "text": [
      "0  cost is  237116.915348\n",
      "1  cost is  271882.125577\n",
      "2  cost is  311750.087872\n",
      "3  cost is  357469.767024\n",
      "4  cost is  409900.058364\n",
      "5  cost is  470025.922994\n",
      "6  cost is  538976.891305\n",
      "7  cost is  618048.282366\n",
      "8  cost is  708725.537832\n",
      "9  cost is  812712.127501\n",
      "10  cost is  931961.550751\n",
      "11  cost is  1068714.03504\n",
      "12  cost is  1225538.6209\n",
      "13  cost is  1405381.42401\n",
      "14  cost is  1611620.98101\n",
      "15  cost is  1848131.71883\n",
      "16  cost is  2119356.73977\n",
      "17  cost is  2430391.28978\n",
      "18  cost is  2787078.4779\n",
      "19  cost is  3196119.04512\n",
      "20  cost is  3665197.24471\n",
      "21  cost is  4203125.19883\n",
      "22  cost is  4820008.44338\n",
      "23  cost is  5527435.77088\n",
      "24  cost is  6338696.93796\n",
      "25  cost is  7269032.32709\n",
      "26  cost is  8335919.25296\n",
      "27  cost is  9559400.29187\n",
      "28  cost is  10962459.8022\n",
      "29  cost is  12571455.7093\n",
      "30  cost is  14416614.6663\n",
      "31  cost is  16532599.8932\n",
      "32  cost is  18959162.361\n",
      "33  cost is  21741887.5548\n",
      "34  cost is  24933051.8443\n",
      "35  cost is  28592604.5493\n",
      "36  cost is  32789294.1494\n",
      "37  cost is  37601959.7957\n",
      "38  cost is  43121012.385\n",
      "39  cost is  49450133.0222\n",
      "40  cost is  56708220.7769\n",
      "41  cost is  65031626.3252\n",
      "42  cost is  74576713.4376\n",
      "43  cost is  85522796.4344\n",
      "44  cost is  98075508.7899\n",
      "45  cost is  112470666.17\n",
      "46  cost is  128978696.472\n",
      "47  cost is  147909720.093\n",
      "48  cost is  169619375.861\n",
      "49  cost is  194515502.078\n",
      "50  cost is  223065798.183\n",
      "51  cost is  255806610.97\n",
      "52  cost is  293353010.414\n",
      "53  cost is  336410344.398\n",
      "54  cost is  385787489.4\n",
      "55  cost is  442412046.073\n",
      "56  cost is  507347765.18\n",
      "57  cost is  581814531.253\n",
      "58  cost is  667211279.381\n",
      "59  cost is  765142275.649\n",
      "60  cost is  877447254.938\n",
      "61  cost is  1006235982.24\n",
      "62  cost is  1153927886.77\n",
      "63  cost is  1323297513.44\n",
      "64  cost is  1517526645.56\n",
      "65  cost is  1740264077.93\n",
      "66  cost is  1995694163.17\n",
      "67  cost is  2288615419.17\n",
      "68  cost is  2624530674.16\n",
      "69  cost is  3009750443.02\n",
      "70  cost is  3451511476.85\n",
      "71  cost is  3958112712.76\n",
      "72  cost is  4539071178.04\n",
      "73  cost is  5205300777.28\n",
      "74  cost is  5969317321.36\n",
      "75  cost is  6845473649.88\n",
      "76  cost is  7850229264.08\n",
      "77  cost is  9002459535.56\n",
      "78  cost is  10323810299.6\n",
      "79  cost is  11839104494.6\n",
      "80  cost is  13576808486.4\n",
      "81  cost is  15569566838.8\n",
      "82  cost is  17854815574.7\n",
      "83  cost is  20475485451.2\n",
      "84  cost is  23480808457.6\n",
      "85  cost is  26927242689.5\n",
      "86  cost is  30879532972.3\n",
      "87  cost is  35411927159.5\n",
      "88  cost is  40609570955.6\n",
      "89  cost is  46570107465.6\n",
      "90  cost is  53405511521.9\n",
      "91  cost is  61244193247.1\n",
      "92  cost is  70233410370.4\n",
      "93  cost is  80542034616.8\n",
      "94  cost is  92363724135.9\n",
      "95  cost is  105920561571.0\n",
      "96  cost is  121467226110.0\n",
      "97  cost is  139295777898.0\n",
      "98  cost is  159741144687.0\n",
      "99  cost is  183187413803.0\n",
      " the value of final m is \n",
      " [[ -8.11855140e+00]\n",
      " [ -2.24409081e+01]\n",
      " [ -4.18398903e+02]\n",
      " [ -3.02476283e+01]\n",
      " [ -4.12916030e-01]]\n"
     ]
    }
   ],
   "source": [
    "run()"
   ]
  },
  {
   "cell_type": "code",
   "execution_count": null,
   "metadata": {
    "collapsed": true
   },
   "outputs": [],
   "source": []
  },
  {
   "cell_type": "code",
   "execution_count": 102,
   "metadata": {
    "collapsed": false
   },
   "outputs": [],
   "source": []
  },
  {
   "cell_type": "code",
   "execution_count": null,
   "metadata": {
    "collapsed": true
   },
   "outputs": [],
   "source": []
  },
  {
   "cell_type": "code",
   "execution_count": null,
   "metadata": {
    "collapsed": true
   },
   "outputs": [],
   "source": []
  },
  {
   "cell_type": "code",
   "execution_count": null,
   "metadata": {
    "collapsed": true
   },
   "outputs": [],
   "source": []
  }
 ],
 "metadata": {
  "kernelspec": {
   "display_name": "Python 3",
   "language": "python",
   "name": "python3"
  },
  "language_info": {
   "codemirror_mode": {
    "name": "ipython",
    "version": 3
   },
   "file_extension": ".py",
   "mimetype": "text/x-python",
   "name": "python",
   "nbconvert_exporter": "python",
   "pygments_lexer": "ipython3",
   "version": "3.6.0"
  }
 },
 "nbformat": 4,
 "nbformat_minor": 2
}
